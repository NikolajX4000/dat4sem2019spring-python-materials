{
 "cells": [
  {
   "cell_type": "code",
   "execution_count": 1,
   "metadata": {},
   "outputs": [],
   "source": [
    "# imports\n",
    "\n",
    "import numpy\n",
    "import random\n",
    "import itertools\n",
    "import collections\n",
    "import operator"
   ]
  },
  {
   "cell_type": "code",
   "execution_count": 2,
   "metadata": {},
   "outputs": [
    {
     "name": "stdout",
     "output_type": "stream",
     "text": [
      "10\n"
     ]
    }
   ],
   "source": [
    "# 1. Write a Python program to sum all the items in a list.\n",
    "\n",
    "l1 = [1, 2, 3, 4]\n",
    "print(sum(l1))"
   ]
  },
  {
   "cell_type": "code",
   "execution_count": 3,
   "metadata": {},
   "outputs": [
    {
     "name": "stdout",
     "output_type": "stream",
     "text": [
      "24\n"
     ]
    }
   ],
   "source": [
    "# 2. Write a Python program to multiplies all the items in a list.\n",
    "\n",
    "print(numpy.prod(l1))"
   ]
  },
  {
   "cell_type": "code",
   "execution_count": 4,
   "metadata": {},
   "outputs": [
    {
     "name": "stdout",
     "output_type": "stream",
     "text": [
      "4\n"
     ]
    }
   ],
   "source": [
    "# 3. Write a Python program to get the largest number from a list.\n",
    "\n",
    "print(max(l1))"
   ]
  },
  {
   "cell_type": "code",
   "execution_count": 5,
   "metadata": {},
   "outputs": [
    {
     "name": "stdout",
     "output_type": "stream",
     "text": [
      "1\n"
     ]
    }
   ],
   "source": [
    "# 4. Write a Python program to get the smallest number from a list.\n",
    "\n",
    "print(min(l1))"
   ]
  },
  {
   "cell_type": "code",
   "execution_count": 6,
   "metadata": {},
   "outputs": [
    {
     "name": "stdout",
     "output_type": "stream",
     "text": [
      "2\n"
     ]
    }
   ],
   "source": [
    "# 5. Write a Python program to count the number of strings where\n",
    "# the string length is 2 or more and the first and last character are same\n",
    "# from a given list of strings.\n",
    "\n",
    "l1 = ['abc', 'xyz', 'aba', '1221']\n",
    "#res = 0\n",
    "\n",
    "#for s in l1:\n",
    "#    if s.endswith(s[0]) and len(s) >= 2:\n",
    "#        res += 1\n",
    "#res\n",
    "\n",
    "print(len([s for s in l1 if s[0] == s[-1] and len(s) >= 2]))"
   ]
  },
  {
   "cell_type": "code",
   "execution_count": 7,
   "metadata": {},
   "outputs": [
    {
     "name": "stdout",
     "output_type": "stream",
     "text": [
      "[(2, 1), (1, 2), (2, 3), (4, 4), (2, 5)]\n"
     ]
    }
   ],
   "source": [
    "# 6. Write a Python program to get a list,\n",
    "# sorted in increasing order\n",
    "# by the last element in each tuple from a given list of non-empty tuples.\n",
    "\n",
    "l1 = [(2, 5), (1, 2), (4, 4), (2, 3), (2, 1)]\n",
    "\n",
    "print(sorted(l1, key=lambda x: x[1]))"
   ]
  },
  {
   "cell_type": "code",
   "execution_count": 8,
   "metadata": {},
   "outputs": [
    {
     "name": "stdout",
     "output_type": "stream",
     "text": [
      "[1, 2, 3, 4]\n"
     ]
    }
   ],
   "source": [
    "# 7. Write a Python program to remove duplicates from a list.\n",
    "\n",
    "l1 = [1, 1, 2, 2, 3, 3, 4, 4]\n",
    "\n",
    "print(list(set(l1)))"
   ]
  },
  {
   "cell_type": "code",
   "execution_count": 9,
   "metadata": {},
   "outputs": [
    {
     "name": "stdout",
     "output_type": "stream",
     "text": [
      "Not empty\n"
     ]
    }
   ],
   "source": [
    "# 8. Write a Python program to check a list is empty or not.\n",
    "\n",
    "l3 = []\n",
    "\n",
    "print('Not empty' if l1 else 'Empty')"
   ]
  },
  {
   "cell_type": "code",
   "execution_count": 10,
   "metadata": {},
   "outputs": [
    {
     "name": "stdout",
     "output_type": "stream",
     "text": [
      "[1, 1, 2, 2, 3, 3, 4, 4]\n",
      "[1, 1, 2, 2, 3, 3, 4, 4]\n",
      "[1, 1, 2, 2, 3, 3, 4, 4, 5]\n",
      "[1, 1, 2, 2, 3, 3, 4, 4]\n"
     ]
    }
   ],
   "source": [
    "# 9. Write a Python program to clone or copy a list.\n",
    "\n",
    "l2 = l1[:]\n",
    "print(l1)\n",
    "print(l2)\n",
    "l1.append(5)\n",
    "print(l1)\n",
    "print(l2)"
   ]
  },
  {
   "cell_type": "code",
   "execution_count": 11,
   "metadata": {},
   "outputs": [
    {
     "name": "stdout",
     "output_type": "stream",
     "text": [
      "['Green', 'White', 'Black', 'Yellow']\n"
     ]
    }
   ],
   "source": [
    "# 10. Write a Python program to find the list of words that are longer than n from a given list of words.\n",
    "\n",
    "l1 = ['Red', 'Green', 'White', 'Black', 'Pink', 'Yellow']\n",
    "\n",
    "print([x for x in l1 if len(x) > 4])"
   ]
  },
  {
   "cell_type": "code",
   "execution_count": 12,
   "metadata": {},
   "outputs": [
    {
     "name": "stdout",
     "output_type": "stream",
     "text": [
      "True\n"
     ]
    }
   ],
   "source": [
    "# 11. Write a Python function that takes two lists and returns True if they have at least one common member.\n",
    "\n",
    "l1 = [1, 2, 3, 4, 5]\n",
    "l2 = [5, 6, 7, 8, 9]\n",
    "\n",
    "def check_common_member(a, b):\n",
    "    for e in set(a):\n",
    "        if e in set(b):\n",
    "            return True\n",
    "    return False\n",
    "print(check_common_member(l1, l2))"
   ]
  },
  {
   "cell_type": "code",
   "execution_count": 13,
   "metadata": {},
   "outputs": [
    {
     "name": "stdout",
     "output_type": "stream",
     "text": [
      "['Green', 'White', 'Black']\n"
     ]
    }
   ],
   "source": [
    "# 12. Write a Python program to print a specified list after removing the 0th, 4th and 5th elements.\n",
    "\n",
    "l1 = ['Red', 'Green', 'White', 'Black', 'Pink', 'Yellow']\n",
    "\n",
    "print(l1[1:4] + l1[6:])"
   ]
  },
  {
   "cell_type": "code",
   "execution_count": 14,
   "metadata": {},
   "outputs": [
    {
     "name": "stdout",
     "output_type": "stream",
     "text": [
      "[[['*' '*' '*' '*' '*' '*']\n",
      "  ['*' '*' '*' '*' '*' '*']\n",
      "  ['*' '*' '*' '*' '*' '*']\n",
      "  ['*' '*' '*' '*' '*' '*']]\n",
      "\n",
      " [['*' '*' '*' '*' '*' '*']\n",
      "  ['*' '*' '*' '*' '*' '*']\n",
      "  ['*' '*' '*' '*' '*' '*']\n",
      "  ['*' '*' '*' '*' '*' '*']]\n",
      "\n",
      " [['*' '*' '*' '*' '*' '*']\n",
      "  ['*' '*' '*' '*' '*' '*']\n",
      "  ['*' '*' '*' '*' '*' '*']\n",
      "  ['*' '*' '*' '*' '*' '*']]]\n"
     ]
    }
   ],
   "source": [
    "# 13. Write a Python program to generate a 346 3D array whose each element is *.\n",
    "\n",
    "#print([[['*' for x in range(6)] for y in range(4)] for z in range(3)])\n",
    "print(numpy.full((3,4,6),'*'))"
   ]
  },
  {
   "cell_type": "code",
   "execution_count": 15,
   "metadata": {},
   "outputs": [
    {
     "name": "stdout",
     "output_type": "stream",
     "text": [
      "[1, 1, 3, 3]\n"
     ]
    }
   ],
   "source": [
    "# 14. Write a Python program to print the numbers of a specified list after removing even numbers from it.\n",
    "\n",
    "l1 = [1, 1, 2, 2, 3, 3, 4, 4]\n",
    "\n",
    "print([x for x in l1 if x % 2 != 0])"
   ]
  },
  {
   "cell_type": "code",
   "execution_count": 16,
   "metadata": {},
   "outputs": [
    {
     "name": "stdout",
     "output_type": "stream",
     "text": [
      "[1, 4, 3, 2, 3, 4, 2, 1]\n"
     ]
    }
   ],
   "source": [
    "# 15. Write a Python program to shuffle and print a specified list.\n",
    "\n",
    "random.shuffle(l1)\n",
    "\n",
    "print(l1)"
   ]
  },
  {
   "cell_type": "code",
   "execution_count": 17,
   "metadata": {},
   "outputs": [
    {
     "name": "stdout",
     "output_type": "stream",
     "text": [
      "[1, 4, 9, 16, 25, 676, 729, 784, 841, 900]\n"
     ]
    }
   ],
   "source": [
    "# 16. Write a Python program to generate and print a list of first and last 5 elements\n",
    "# where the values are square of numbers between 1 and 30 (both included). \n",
    "\n",
    "print([(x+1)**2 for x in range(30) if x < 5 or x > 24])"
   ]
  },
  {
   "cell_type": "code",
   "execution_count": 18,
   "metadata": {},
   "outputs": [
    {
     "name": "stdout",
     "output_type": "stream",
     "text": [
      "[36, 49, 64, 81, 100, 121, 144, 169, 196, 225, 256, 289, 324, 361, 400, 441, 484, 529, 576, 625, 676, 729, 784, 841, 900]\n"
     ]
    }
   ],
   "source": [
    "# 17. Write a Python program to generate and print a list except for the first 5 elements,\n",
    "# where the values are square of numbers between 1 and 30 (both included).\n",
    "\n",
    "print([(x+1)**2 for x in range(30) if x >= 5])"
   ]
  },
  {
   "cell_type": "code",
   "execution_count": 19,
   "metadata": {},
   "outputs": [
    {
     "name": "stdout",
     "output_type": "stream",
     "text": [
      "[(0, 1, 2), (0, 2, 1), (1, 0, 2), (1, 2, 0), (2, 0, 1), (2, 1, 0)]\n"
     ]
    }
   ],
   "source": [
    "# 18. Write a Python program to generate all permutations of a list in Python.\n",
    "\n",
    "print(list(itertools.permutations(range(3))))"
   ]
  },
  {
   "cell_type": "code",
   "execution_count": 20,
   "metadata": {},
   "outputs": [
    {
     "name": "stdout",
     "output_type": "stream",
     "text": [
      "[1, 4, 9, 16, 25]\n",
      "[36, 49, 64, 81, 100, 121, 144, 169, 196, 225, 256, 289, 324, 361, 400, 441, 484, 529, 576, 625]\n"
     ]
    }
   ],
   "source": [
    "# 19. Write a Python program to get the difference between the two lists.\n",
    "\n",
    "l1 = [1, 4, 9, 16, 25, 676, 729, 784, 841, 900]\n",
    "l2 = [36, 49, 64, 81, 100, 121, 144, 169, 196, 225, 256, 289, 324, 361, 400, 441, 484, 529, 576, 625, 676, 729, 784, 841, 900]\n",
    "\n",
    "diff = lambda a,b: [x for x in a if x not in b]\n",
    "\n",
    "print(diff(l1,l2))\n",
    "print(diff(l2,l1))"
   ]
  },
  {
   "cell_type": "code",
   "execution_count": 21,
   "metadata": {},
   "outputs": [
    {
     "name": "stdout",
     "output_type": "stream",
     "text": [
      "0 1\n",
      "1 4\n",
      "2 9\n",
      "3 16\n",
      "4 25\n",
      "5 676\n",
      "6 729\n",
      "7 784\n",
      "8 841\n",
      "9 900\n"
     ]
    }
   ],
   "source": [
    "# 20. Write a Python program access the index of a list.\n",
    "\n",
    "for i,v in enumerate(l1):\n",
    "    print(i,v)"
   ]
  },
  {
   "cell_type": "code",
   "execution_count": 22,
   "metadata": {},
   "outputs": [
    {
     "name": "stdout",
     "output_type": "stream",
     "text": [
      "Hello World!\n"
     ]
    }
   ],
   "source": [
    "# 21. Write a Python program to convert a list of characters into a string.\n",
    "\n",
    "l1 = ['H','e','l','l','o',' ','W','o','r','l','d','!']\n",
    "\n",
    "print(\"\".join([x for x in l1]))"
   ]
  },
  {
   "cell_type": "code",
   "execution_count": 23,
   "metadata": {},
   "outputs": [
    {
     "name": "stdout",
     "output_type": "stream",
     "text": [
      "6\n"
     ]
    }
   ],
   "source": [
    "# 22. Write a Python program to find the index of an item in a specified list.\n",
    "\n",
    "print(l1.index('W'))"
   ]
  },
  {
   "cell_type": "code",
   "execution_count": 24,
   "metadata": {},
   "outputs": [
    {
     "name": "stdout",
     "output_type": "stream",
     "text": [
      "[1, 2, 3, 4, 5, 6, 7, 8, 9]\n"
     ]
    }
   ],
   "source": [
    "# 23. Write a Python program to flatten a shallow list.\n",
    "\n",
    "l1 = [[1,2,3],[4,5,6], [7], [8,9]]\n",
    "\n",
    "print(list(itertools.chain.from_iterable(l1)))"
   ]
  },
  {
   "cell_type": "code",
   "execution_count": 25,
   "metadata": {},
   "outputs": [
    {
     "name": "stdout",
     "output_type": "stream",
     "text": [
      "[1, 1, 2, 2, 3, 3, 4, 4, 1, 2, 3, 4, 5, 6, 7, 8, 9]\n"
     ]
    }
   ],
   "source": [
    "# 24. Write a Python program to append a list to the second list.\n",
    "\n",
    "l1 = [1, 1, 2, 2, 3, 3, 4, 4]\n",
    "l2 = [1, 2, 3, 4, 5, 6, 7, 8, 9]\n",
    "\n",
    "print(l1+l2)"
   ]
  },
  {
   "cell_type": "code",
   "execution_count": 26,
   "metadata": {},
   "outputs": [
    {
     "name": "stdout",
     "output_type": "stream",
     "text": [
      "1\n"
     ]
    }
   ],
   "source": [
    "# 25. Write a Python program to select an item randomly from a list.\n",
    "\n",
    "print(random.choice(l1))"
   ]
  },
  {
   "cell_type": "code",
   "execution_count": 27,
   "metadata": {},
   "outputs": [
    {
     "name": "stdout",
     "output_type": "stream",
     "text": [
      "True\n",
      "False\n",
      "True\n",
      "False\n",
      "False\n",
      "False\n"
     ]
    }
   ],
   "source": [
    "# 26. Write a python program to check whether two lists are circularly identical.\n",
    "\n",
    "l1 = [10, 10, 0, 0, 10]\n",
    "l2 = [10, 10, 10, 0, 0]\n",
    "l3 = [1, 10, 10, 0, 0]\n",
    "\n",
    "def check_circularly_identical(a,b):\n",
    "    return \"\".join([str(x) for x in a]) in \"\".join([str(x) for x in b*2])\n",
    "\n",
    "print(check_circularly_identical(l1,l2))\n",
    "print(check_circularly_identical(l1,l3))\n",
    "print(check_circularly_identical(l2,l1))\n",
    "print(check_circularly_identical(l2,l3))\n",
    "print(check_circularly_identical(l3,l1))\n",
    "print(check_circularly_identical(l3,l2))"
   ]
  },
  {
   "cell_type": "code",
   "execution_count": 28,
   "metadata": {},
   "outputs": [
    {
     "name": "stdout",
     "output_type": "stream",
     "text": [
      "4\n"
     ]
    }
   ],
   "source": [
    "# 27. Write a Python program to find the second smallest number in a list.\n",
    "\n",
    "l1 = [12, 45, 2, 41, 31, 10, 8, 6, 4]\n",
    "\n",
    "l1.sort(key=int)\n",
    "\n",
    "print(l1[1])"
   ]
  },
  {
   "cell_type": "code",
   "execution_count": 29,
   "metadata": {},
   "outputs": [
    {
     "name": "stdout",
     "output_type": "stream",
     "text": [
      "41\n"
     ]
    }
   ],
   "source": [
    "# 28. Write a Python program to find the second largest number in a list.\n",
    "\n",
    "print(l1[-2])"
   ]
  },
  {
   "cell_type": "code",
   "execution_count": 30,
   "metadata": {},
   "outputs": [
    {
     "name": "stdout",
     "output_type": "stream",
     "text": [
      "{1, 2, 3, 4}\n"
     ]
    }
   ],
   "source": [
    "# 29. Write a Python program to get unique values from a list.\n",
    "\n",
    "l1 = [1, 1, 2, 2, 3, 3, 4, 4]\n",
    "\n",
    "print(set(l1))"
   ]
  },
  {
   "cell_type": "code",
   "execution_count": 31,
   "metadata": {},
   "outputs": [
    {
     "name": "stdout",
     "output_type": "stream",
     "text": [
      "Counter({1: 2, 2: 2, 3: 2, 4: 2})\n"
     ]
    }
   ],
   "source": [
    "# 30. Write a Python program to get the frequency of the elements in a list.\n",
    "\n",
    "print(collections.Counter(l1))"
   ]
  },
  {
   "cell_type": "code",
   "execution_count": 32,
   "metadata": {},
   "outputs": [
    {
     "name": "stdout",
     "output_type": "stream",
     "text": [
      "3\n"
     ]
    }
   ],
   "source": [
    "# 31. Write a Python program to count the number of elements in a list within a specified range.\n",
    "\n",
    "l1 = [12, 45, 2, 41, 31, 10, 8, 6, 4, 25, 35]\n",
    "\n",
    "print(len([x for x in l1 if x in range(20,40)]))"
   ]
  },
  {
   "cell_type": "code",
   "execution_count": 33,
   "metadata": {},
   "outputs": [
    {
     "name": "stdout",
     "output_type": "stream",
     "text": [
      "False\n",
      "True\n"
     ]
    }
   ],
   "source": [
    "# 32. Write a Python program to check whether a list contains a sublist.\n",
    "\n",
    "l1 = [1, 1, 2, 2, 3, 3, 4, 4]\n",
    "l2 = [1, 2, 3, 4]\n",
    "l3 = [1, 1]\n",
    "\n",
    "x_contains_y = lambda x,y: any(y == x[offset:offset+len(y)] for offset in range(len(x)))\n",
    "\n",
    "print(x_contains_y(l1,l2))\n",
    "print(x_contains_y(l1,l3))"
   ]
  },
  {
   "cell_type": "code",
   "execution_count": 34,
   "metadata": {},
   "outputs": [
    {
     "name": "stdout",
     "output_type": "stream",
     "text": [
      "[[], [1], [1, 2], [1, 2, 3], [1, 2, 3, 4], [2], [2, 3], [2, 3, 4], [3], [3, 4], [4]]\n"
     ]
    }
   ],
   "source": [
    "# 33. Write a Python program to generate all sublists of a list.\n",
    "\n",
    "def sublists(l):\n",
    "    arr = [[]]\n",
    "    for i in range(len(l)+1):\n",
    "        for j in range(i+1,len(l)+1):\n",
    "            arr.append(l[i:j])\n",
    "    return arr\n",
    "\n",
    "print(sublists(l2))"
   ]
  },
  {
   "cell_type": "code",
   "execution_count": 35,
   "metadata": {},
   "outputs": [
    {
     "name": "stdout",
     "output_type": "stream",
     "text": [
      "[2, 3, 5, 7, 11, 13, 17, 19, 23, 29, 31, 37, 41, 43, 47, 53, 59, 61, 67, 71, 73, 79, 83, 89, 97]\n"
     ]
    }
   ],
   "source": [
    "# 34. Write a Python program using Sieve of Eratosthenes method for computing primes upto a specified number.\n",
    "\n",
    "def SieveOfEratosthenes(n): \n",
    "    prime = [True for i in range(n+1)] \n",
    "    res = []\n",
    "    p = 2\n",
    "    \n",
    "    while (p * p <= n): \n",
    "        if (prime[p] == True): \n",
    "            for i in range(p * 2, n+1, p): \n",
    "                prime[i] = False\n",
    "        p += 1\n",
    "    \n",
    "    for p in range(2, n): \n",
    "        if prime[p]: \n",
    "            res.append(p)\n",
    "            \n",
    "    return res\n",
    "\n",
    "print(SieveOfEratosthenes(100))"
   ]
  },
  {
   "cell_type": "code",
   "execution_count": 36,
   "metadata": {},
   "outputs": [
    {
     "name": "stdout",
     "output_type": "stream",
     "text": [
      "['p1', 'p2', 'p3', 'p4', 'p5', 'q1', 'q2', 'q3', 'q4', 'q5']\n"
     ]
    }
   ],
   "source": [
    "# 35. Write a Python program to create a list by concatenating a given list which range goes from 1 to n.\n",
    "\n",
    "l1 = ['p', 'q']\n",
    "n = 5\n",
    "\n",
    "print([x + str(y + 1) for x in l1 for y in range(n)])"
   ]
  },
  {
   "cell_type": "code",
   "execution_count": 37,
   "metadata": {},
   "outputs": [
    {
     "name": "stdout",
     "output_type": "stream",
     "text": [
      "7ff89011bfb0\n"
     ]
    }
   ],
   "source": [
    "# 36. Write a Python program to get variable unique identification number or string.\n",
    "\n",
    "x = 100\n",
    "\n",
    "print(format(id(x), 'x'))"
   ]
  },
  {
   "cell_type": "code",
   "execution_count": 38,
   "metadata": {},
   "outputs": [
    {
     "name": "stdout",
     "output_type": "stream",
     "text": [
      "[1, 2, 3, 4]\n"
     ]
    }
   ],
   "source": [
    "# 37. Write a Python program to find common items from two lists.\n",
    "\n",
    "l1 = [1, 1, 2, 2, 3, 3, 4, 4]\n",
    "l2 = [1, 2, 3, 4, 5, 6, 7, 8, 9]\n",
    "\n",
    "def common_items(a,b):\n",
    "    return list(set(a) & set(b))\n",
    "\n",
    "print(common_items(l1,l2))"
   ]
  },
  {
   "cell_type": "code",
   "execution_count": 39,
   "metadata": {},
   "outputs": [
    {
     "name": "stdout",
     "output_type": "stream",
     "text": [
      "[1, 0, 3, 2, 5, 4]\n"
     ]
    }
   ],
   "source": [
    "# 38. Write a Python program to change the position of every n-th value with the (n+1)th in a list.\n",
    "\n",
    "l1 = [0, 1, 2, 3, 4, 5]\n",
    "\n",
    "for i in range(0,len(l1),2):\n",
    "    tmp = l1[i]\n",
    "    l1[i] = l1[i+1]\n",
    "    l1[i+1] = tmp\n",
    "    \n",
    "print(l1)"
   ]
  },
  {
   "cell_type": "code",
   "execution_count": 40,
   "metadata": {},
   "outputs": [
    {
     "name": "stdout",
     "output_type": "stream",
     "text": [
      "113350\n"
     ]
    }
   ],
   "source": [
    "# 39. Write a Python program to convert a list of multiple integers into a single integer.\n",
    "\n",
    "l1 = [11, 33, 50]\n",
    "\n",
    "print(int(\"\".join([str(x) for x in l1])))"
   ]
  },
  {
   "cell_type": "code",
   "execution_count": 41,
   "metadata": {},
   "outputs": [
    {
     "name": "stdout",
     "output_type": "stream",
     "text": [
      "a ['ask']\n",
      "b ['be']\n",
      "c ['call', 'come']\n",
      "d ['do']\n",
      "f ['feel', 'find']\n",
      "g ['get', 'give', 'go']\n",
      "h ['have']\n",
      "k ['know']\n",
      "l ['leave', 'look']\n",
      "m ['make']\n",
      "s ['say', 'see', 'seem']\n",
      "t ['take', 'tell', 'think']\n",
      "u ['use']\n",
      "w ['want', 'work']\n"
     ]
    }
   ],
   "source": [
    "# 40. Write a Python program to split a list based on first character of word.\n",
    "\n",
    "word_list = ['be','have','do','say','get','make','go','know','take','see','come','think',\n",
    "     'look','want','give','use','find','tell','ask','work','seem','feel','leave','call']\n",
    "\n",
    "for letter, words in itertools.groupby(sorted(word_list), key=operator.itemgetter(0)):\n",
    "    print(letter, list(words))"
   ]
  },
  {
   "cell_type": "code",
   "execution_count": 42,
   "metadata": {},
   "outputs": [
    {
     "name": "stdout",
     "output_type": "stream",
     "text": [
      "{'1': [], '2': [], '3': [], '4': [], '5': [], '6': [], '7': [], '8': [], '9': [], '10': [], '11': [], '12': [], '13': [], '14': [], '15': [], '16': [], '17': [], '18': [], '19': [], '20': []}\n"
     ]
    }
   ],
   "source": [
    "# 41. Write a Python program to create multiple lists.\n",
    "\n",
    "obj = {}\n",
    "for i in range(20):\n",
    "    obj[str(i+1)] = []\n",
    "print(obj)"
   ]
  },
  {
   "cell_type": "code",
   "execution_count": 43,
   "metadata": {},
   "outputs": [
    {
     "name": "stdout",
     "output_type": "stream",
     "text": [
      "Missing values:  b,c,a\n",
      "Additional values:  h,g\n"
     ]
    }
   ],
   "source": [
    "# 42. Write a Python program to find missing and additional values in two lists.\n",
    "\n",
    "l1 = ['a','b','c','d','e','f']\n",
    "l2 = ['d','e','f','g','h']\n",
    "\n",
    "print('Missing values: ', ','.join(set(l1).difference(l2)))\n",
    "print('Additional values: ', ','.join(set(l2).difference(l1)))"
   ]
  },
  {
   "cell_type": "code",
   "execution_count": 44,
   "metadata": {},
   "outputs": [
    {
     "name": "stdout",
     "output_type": "stream",
     "text": [
      "1 2 3 4\n"
     ]
    }
   ],
   "source": [
    "# 43. Write a Python program to split a list into different variables.\n",
    "\n",
    "l1 = [1, 2, 3, 4]\n",
    "v1, v2, v3, v4 = l1\n",
    "\n",
    "print(v1, v2, v3, v4)"
   ]
  },
  {
   "cell_type": "code",
   "execution_count": 45,
   "metadata": {},
   "outputs": [
    {
     "name": "stdout",
     "output_type": "stream",
     "text": [
      "[[1, 2, 3, 4, 5], [6, 7, 8, 9, 10], [11, 12, 13, 14, 15], [16, 17, 18, 19, 20], [21, 22, 23, 24, 25]]\n"
     ]
    }
   ],
   "source": [
    "# 44. Write a Python program to generate groups of five consecutive numbers in a list.\n",
    "\n",
    "print([[5*i + j for j in range(1,6)] for i in range(5)])"
   ]
  },
  {
   "cell_type": "code",
   "execution_count": 46,
   "metadata": {},
   "outputs": [
    {
     "name": "stdout",
     "output_type": "stream",
     "text": [
      "[1, 2, 3, 4, 5, 6, 7, 8, 9, 10]\n"
     ]
    }
   ],
   "source": [
    "# 45. Write a Python program to convert a pair of values into a sorted unique array.\n",
    "\n",
    "l1 = [(1, 2), (3, 4), (1, 2), (5, 6), (7, 8), (1, 2), (3, 4), (3, 4),\n",
    " (7, 8), (9, 10)]\n",
    "print(sorted(set().union(*l1)))"
   ]
  },
  {
   "cell_type": "code",
   "execution_count": 47,
   "metadata": {},
   "outputs": [
    {
     "name": "stdout",
     "output_type": "stream",
     "text": [
      "[1, 3, 5, 7, 9]\n"
     ]
    }
   ],
   "source": [
    "# 46. Write a Python program to select the odd items of a list.\n",
    "\n",
    "l1 = [1, 2, 3, 4, 5, 6, 7, 8, 9]\n",
    "\n",
    "print(l1[::2])"
   ]
  },
  {
   "cell_type": "code",
   "execution_count": 48,
   "metadata": {},
   "outputs": [
    {
     "name": "stdout",
     "output_type": "stream",
     "text": [
      "[1, -1, 2, -2, 3, -3, 4, -4, 5, -5, 6, -6, 7, -7, 8, -8, 9, -9]\n"
     ]
    }
   ],
   "source": [
    "# 47. Write a Python program to insert an element before each element of a list.\n",
    "\n",
    "for i in range(len(l1),0,-1):\n",
    "    l1.insert(i,-i)\n",
    "    \n",
    "print(l1)"
   ]
  },
  {
   "cell_type": "code",
   "execution_count": 49,
   "metadata": {},
   "outputs": [
    {
     "name": "stdout",
     "output_type": "stream",
     "text": [
      "[1, 2, 3]\n",
      "[4, 5, 6]\n",
      "[7, 8, 9]\n",
      "[10, 11, 12]\n"
     ]
    }
   ],
   "source": [
    "# 48. Write a Python program to print a nested lists (each list on a new line) using the print() function.\n",
    "\n",
    "l1 = [[1,2,3],[4,5,6],[7,8,9],[10,11,12]]\n",
    "\n",
    "for x in l1:\n",
    "    print(x)"
   ]
  },
  {
   "cell_type": "code",
   "execution_count": 50,
   "metadata": {},
   "outputs": [
    {
     "name": "stdout",
     "output_type": "stream",
     "text": [
      "[{'color_name': 'Black', 'color_code': '#000000'}, {'color_name': 'Red', 'color_code': '#FF0000'}, {'color_name': 'Maroon', 'color_code': '#800000'}, {'color_name': 'Yellow', 'color_code': '#FFFF00'}]\n"
     ]
    }
   ],
   "source": [
    "# 49. Write a Python program to convert list to list of dictionaries.\n",
    "\n",
    "l1, l2 = [\"Black\", \"Red\", \"Maroon\", \"Yellow\"], [\"#000000\", \"#FF0000\", \"#800000\", \"#FFFF00\"]\n",
    "\n",
    "print([{'color_name': l1[i], 'color_code': l2[i]} for i in range(len(l1))])"
   ]
  },
  {
   "cell_type": "code",
   "execution_count": 51,
   "metadata": {},
   "outputs": [
    {
     "name": "stdout",
     "output_type": "stream",
     "text": [
      "[{'color_name': 'Black', 'color_code': '#000000'}, {'color_name': 'Maroon', 'color_code': '#800000'}, {'color_name': 'Red', 'color_code': '#FF0000'}, {'color_name': 'Yellow', 'color_code': '#FFFF00'}]\n"
     ]
    }
   ],
   "source": [
    "# 50. Write a Python program to sort a list of nested dictionaries.\n",
    "\n",
    "l1 = [{'color_name': 'Black', 'color_code': '#000000'},\n",
    "      {'color_name': 'Red', 'color_code': '#FF0000'},\n",
    "      {'color_name': 'Maroon', 'color_code': '#800000'},\n",
    "      {'color_name': 'Yellow', 'color_code': '#FFFF00'}]\n",
    "\n",
    "print(sorted(l1, key=operator.itemgetter('color_code')))"
   ]
  },
  {
   "cell_type": "code",
   "execution_count": 52,
   "metadata": {},
   "outputs": [],
   "source": [
    "# 51. Write a Python program to split a list every Nth element.\n",
    "\n",
    "l1 = ['a', 'b', 'c', 'd', 'e', 'f', 'g', 'h', 'i', 'j', 'k', 'l', 'm', 'n']\n",
    "\n"
   ]
  },
  {
   "cell_type": "code",
   "execution_count": 53,
   "metadata": {},
   "outputs": [
    {
     "name": "stdout",
     "output_type": "stream",
     "text": [
      "Counter({'red': 1, 'orange': 1, 'white': 1})\n",
      "Counter({'black': 1, 'yellow': 1})\n"
     ]
    }
   ],
   "source": [
    "# 52. Write a Python program to compute the similarity between two lists.\n",
    "\n",
    "l1, l2 = [\"red\", \"orange\", \"green\", \"blue\", \"white\"], [\"black\", \"yellow\", \"green\", \"blue\"]\n",
    "d1 = collections.Counter(l1)\n",
    "d2 = collections.Counter(l2)\n",
    "\n",
    "print(d1-d2)\n",
    "print(d2-d1)"
   ]
  },
  {
   "cell_type": "code",
   "execution_count": 54,
   "metadata": {},
   "outputs": [
    {
     "name": "stdout",
     "output_type": "stream",
     "text": [
      "0\n",
      "1\n",
      "2\n",
      "3\n"
     ]
    }
   ],
   "source": [
    "# 53. Write a Python program to create a list with infinite elements.\n",
    "\n",
    "to_infinity = itertools.count()\n",
    "\n",
    "print(next(to_infinity))\n",
    "print(next(to_infinity))\n",
    "print(next(to_infinity))\n",
    "print(next(to_infinity))"
   ]
  },
  {
   "cell_type": "code",
   "execution_count": 55,
   "metadata": {},
   "outputs": [
    {
     "name": "stdout",
     "output_type": "stream",
     "text": [
      "redorangegreenbluewhite\n",
      "red-orange-green-blue-white\n",
      "red,orange,green,blue,white\n"
     ]
    }
   ],
   "source": [
    "# 54. Write a Python program to concatenate elements of a list.\n",
    "\n",
    "def join_by_seperator(arr, sep):\n",
    "    return sep.join([x for x in arr])\n",
    "\n",
    "print(join_by_seperator(l1,''))\n",
    "print(join_by_seperator(l1,'-'))\n",
    "print(join_by_seperator(l1,','))"
   ]
  },
  {
   "cell_type": "code",
   "execution_count": 56,
   "metadata": {},
   "outputs": [
    {
     "name": "stdout",
     "output_type": "stream",
     "text": [
      "[{'key2': 'value2'}, {'key2': 'value4'}]\n"
     ]
    }
   ],
   "source": [
    "# 55. Write a Python program to remove key values pairs from a list of dictionaries.\n",
    "\n",
    "l1 = [{'key1':'value1', 'key2':'value2'}, {'key1':'value3', 'key2':'value4'}]\n",
    "\n",
    "print([{k: v for k, v in d.items() if k != 'key1'} for d in l1])"
   ]
  },
  {
   "cell_type": "code",
   "execution_count": 57,
   "metadata": {},
   "outputs": [
    {
     "name": "stdout",
     "output_type": "stream",
     "text": [
      "['H', 'e', 'l', 'l', 'o', ' ', 'W', 'o', 'r', 'l', 'd', '!']\n"
     ]
    }
   ],
   "source": [
    "# 56. Write a Python program to convert a string to a list.\n",
    "\n",
    "s1 = 'Hello World!'\n",
    "\n",
    "print(list(s1))"
   ]
  },
  {
   "cell_type": "code",
   "execution_count": 58,
   "metadata": {},
   "outputs": [
    {
     "name": "stdout",
     "output_type": "stream",
     "text": [
      "True\n",
      "False\n"
     ]
    }
   ],
   "source": [
    "# 57. Write a Python program to check if all items of a list is equal to a given string.\n",
    "\n",
    "l1 = ['a', 'a', 'a', 'a']\n",
    "l2 = l1[:] + ['b']\n",
    "\n",
    "print(all(x == 'a' for x in l1))\n",
    "print(all(x == 'a' for x in l2))"
   ]
  },
  {
   "cell_type": "code",
   "execution_count": 59,
   "metadata": {},
   "outputs": [
    {
     "name": "stdout",
     "output_type": "stream",
     "text": [
      "[1, 3, 5, 7, 9, 2, 4, 6, 8]\n"
     ]
    }
   ],
   "source": [
    "# 58. Write a Python program to replace the last element in a list with another list.\n",
    "\n",
    "l1, l2 = [1, 3, 5, 7, 9, 10], [2, 4, 6, 8]\n",
    "\n",
    "l1[-1:] = l2\n",
    "\n",
    "print(l1)"
   ]
  },
  {
   "cell_type": "code",
   "execution_count": 60,
   "metadata": {},
   "outputs": [
    {
     "name": "stdout",
     "output_type": "stream",
     "text": [
      "False\n",
      "True\n",
      "9\n"
     ]
    }
   ],
   "source": [
    "# 59. Write a Python program to check if the n-th element exists in a given list.\n",
    "\n",
    "def check_nth_element(arr, n):\n",
    "    return n <= len(arr)\n",
    "\n",
    "print(check_nth_element(l1,10))\n",
    "print(check_nth_element(l1,5))\n",
    "print(l1[4])\n",
    "\n",
    "# print(l1[-1])"
   ]
  },
  {
   "cell_type": "code",
   "execution_count": 61,
   "metadata": {},
   "outputs": [
    {
     "name": "stdout",
     "output_type": "stream",
     "text": [
      "(6, 0)\n"
     ]
    }
   ],
   "source": [
    "# 60. Write a Python program to find a tuple, the smallest second index value from a list of tuples.\n",
    "\n",
    "l1 = [(4, 1), (1, 2), (6, 0)]\n",
    "\n",
    "print(min(l1, key=lambda n: (n[1])))"
   ]
  },
  {
   "cell_type": "code",
   "execution_count": 62,
   "metadata": {},
   "outputs": [
    {
     "name": "stdout",
     "output_type": "stream",
     "text": [
      "[{}, {}, {}, {}, {}, {}, {}, {}, {}, {}]\n"
     ]
    }
   ],
   "source": [
    "# 61. Write a Python program to create a list of empty dictionaries.\n",
    "\n",
    "print([{} for _ in range(10)])"
   ]
  },
  {
   "cell_type": "code",
   "execution_count": 63,
   "metadata": {},
   "outputs": [
    {
     "name": "stdout",
     "output_type": "stream",
     "text": [
      "1 3 5 7 9 2 4 6 8\n"
     ]
    }
   ],
   "source": [
    "# 62. Write a Python program to print a list of space-separated elements.\n",
    "\n",
    "l1 = [1, 3, 5, 7, 9, 2, 4, 6, 8]\n",
    "\n",
    "print(' '.join([str(x) for x in l1]))"
   ]
  },
  {
   "cell_type": "code",
   "execution_count": 64,
   "metadata": {},
   "outputs": [
    {
     "name": "stdout",
     "output_type": "stream",
     "text": [
      "['emp1', 'emp2', 'emp3', 'emp4']\n"
     ]
    }
   ],
   "source": [
    "# 63. Write a Python program to insert a given string at the beginning of all items in a list.\n",
    "\n",
    "l1 = [1,2,3,4]\n",
    "s1 = 'emp'\n",
    "\n",
    "print([s1+str(x) for x in l1])"
   ]
  },
  {
   "cell_type": "code",
   "execution_count": 65,
   "metadata": {},
   "outputs": [
    {
     "name": "stdout",
     "output_type": "stream",
     "text": [
      "1 red\n",
      "2 white\n",
      "3 black\n"
     ]
    }
   ],
   "source": [
    "# 64. Write a Python program to iterate over two lists simultaneously.\n",
    "\n",
    "l1 = [1, 2, 3]\n",
    "l2 = ['red', 'white', 'black']\n",
    "for (a,b) in zip(l1, l2):\n",
    "     print(a, b)"
   ]
  },
  {
   "cell_type": "code",
   "execution_count": 66,
   "metadata": {},
   "outputs": [
    {
     "name": "stdout",
     "output_type": "stream",
     "text": [
      "physics\n"
     ]
    }
   ],
   "source": [
    "# 65. Write a Python program to access dictionary keys element by index.\n",
    "\n",
    "l1 = {'physics': 80, 'math': 90, 'chemistry': 86}\n",
    "print(list(l1)[0])"
   ]
  },
  {
   "cell_type": "code",
   "execution_count": 67,
   "metadata": {},
   "outputs": [
    {
     "name": "stdout",
     "output_type": "stream",
     "text": [
      "[10, 11, 12]\n"
     ]
    }
   ],
   "source": [
    "# 66. Write a Python program to find the list in a list of lists whose sum of elements is the highest.\n",
    "\n",
    "l1 = [[1,2,3], [4,5,6], [10,11,12], [7,8,9]]\n",
    "\n",
    "print(max(l1, key=sum))"
   ]
  },
  {
   "cell_type": "code",
   "execution_count": 68,
   "metadata": {},
   "outputs": [
    {
     "name": "stdout",
     "output_type": "stream",
     "text": [
      "[71, 73, 79, 83, 89, 97]\n"
     ]
    }
   ],
   "source": [
    "# 67. Write a Python program to find all the values in a list are greater than a specified number.\n",
    "\n",
    "l1 = [2, 3, 5, 7, 11, 13, 17, 19, 23, 29, 31, 37, 41, 43, 47, 53, 59, 61, 67, 71, 73, 79, 83, 89, 97]\n",
    "\n",
    "print([x for x in l1 if x > 70])"
   ]
  },
  {
   "cell_type": "code",
   "execution_count": 69,
   "metadata": {},
   "outputs": [
    {
     "name": "stdout",
     "output_type": "stream",
     "text": [
      "[40, 50, 60, 10, 20, 30]\n"
     ]
    }
   ],
   "source": [
    "# 68. Write a Python program to extend a list without append.\n",
    "\n",
    "l1 = [10, 20, 30]\n",
    "l2 = [40, 50, 60]\n",
    "l1[:0] = l2\n",
    "print(l1)"
   ]
  },
  {
   "cell_type": "code",
   "execution_count": 70,
   "metadata": {},
   "outputs": [
    {
     "name": "stdout",
     "output_type": "stream",
     "text": [
      "[[10, 20], [30, 56, 25], [33], [40]]\n"
     ]
    }
   ],
   "source": [
    "# 69. Write a Python program to remove duplicates from a list of lists.\n",
    "\n",
    "l1 = [[10, 20], [40], [30, 56, 25], [10, 20], [33], [40]]\n",
    "\n",
    "l1.sort()\n",
    "\n",
    "print(list(l1 for l1,_ in itertools.groupby(l1)))"
   ]
  },
  {
   "cell_type": "code",
   "execution_count": 71,
   "metadata": {},
   "outputs": [
    {
     "name": "stdout",
     "output_type": "stream",
     "text": [
      "4\n"
     ]
    }
   ],
   "source": [
    "# 70. Write a Python program to get the depth of a dictionary.\n",
    "\n",
    "d1 = {'a':1, 'b': {'c': {'d': {}}}}\n",
    "\n",
    "def dict_depth(d):\n",
    "    if isinstance(d, dict):\n",
    "        return 1 + (max(map(dict_depth, d.values())) if d else 0)\n",
    "    return 0\n",
    "\n",
    "print(dict_depth(d1))"
   ]
  },
  {
   "cell_type": "code",
   "execution_count": 72,
   "metadata": {},
   "outputs": [
    {
     "name": "stdout",
     "output_type": "stream",
     "text": [
      "True\n",
      "False\n"
     ]
    }
   ],
   "source": [
    "# 71. Write a Python program to check if all dictionaries in a list are empty or not.\n",
    "\n",
    "l1 = [{},{},{}]\n",
    "l2 = [{1,2},{},{}]\n",
    "\n",
    "print(all(not d for d in l1))\n",
    "print(all(not d for d in l2))"
   ]
  },
  {
   "cell_type": "code",
   "execution_count": null,
   "metadata": {},
   "outputs": [],
   "source": []
  }
 ],
 "metadata": {
  "kernelspec": {
   "display_name": "Python 3",
   "language": "python",
   "name": "python3"
  },
  "language_info": {
   "codemirror_mode": {
    "name": "ipython",
    "version": 3
   },
   "file_extension": ".py",
   "mimetype": "text/x-python",
   "name": "python",
   "nbconvert_exporter": "python",
   "pygments_lexer": "ipython3",
   "version": "3.7.1"
  }
 },
 "nbformat": 4,
 "nbformat_minor": 2
}
