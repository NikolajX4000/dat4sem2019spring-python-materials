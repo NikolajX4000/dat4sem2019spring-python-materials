{
 "cells": [
  {
   "cell_type": "code",
   "execution_count": 1,
   "metadata": {},
   "outputs": [
    {
     "name": "stdout",
     "output_type": "stream",
     "text": [
      "1\n",
      "2\n",
      "3\n",
      "4\n",
      "5\n",
      "6\n",
      "7\n",
      "8\n",
      "9\n"
     ]
    }
   ],
   "source": [
    "def recursive_print(ls):\n",
    "    if ls:\n",
    "        print(ls.pop(0))\n",
    "        recursive_print(ls[:])\n",
    "\n",
    "recursive_print([1,2,3,4,5,6,7,8,9])"
   ]
  },
  {
   "cell_type": "code",
   "execution_count": 2,
   "metadata": {},
   "outputs": [
    {
     "name": "stdout",
     "output_type": "stream",
     "text": [
      "Server: nginx/1.1.19\n",
      "Date: Tue, 12 Feb 2019 12:44:02 GMT\n",
      "Content-Type: text/csv\n",
      "Transfer-Encoding: chunked\n",
      "Connection: close\n",
      "Pragma: no-cache\n",
      "Cache-Control: no-cache\n",
      "Accept-Ranges: bytes\n",
      "ETag: \"1467371968.0-9852462\"\n",
      "Last-Modified: Fri, 01 Jul 2016 11:19:28 GMT\n",
      "Content-Range: bytes 0-9852461/9852462\n",
      "\n",
      "\n"
     ]
    }
   ],
   "source": [
    "import webget\n",
    "url = 'http://data.kk.dk/dataset/76ecf368-bf2d-46a2-bcf8-adaf37662528/resource/9286af17-f74e-46c9-a428-9fb707542189/download/befkbhalderstatkode.csv'\n",
    "print(webget.download(url))"
   ]
  },
  {
   "cell_type": "code",
   "execution_count": null,
   "metadata": {},
   "outputs": [],
   "source": []
  }
 ],
 "metadata": {
  "kernelspec": {
   "display_name": "Python 3",
   "language": "python",
   "name": "python3"
  },
  "language_info": {
   "codemirror_mode": {
    "name": "ipython",
    "version": 3
   },
   "file_extension": ".py",
   "mimetype": "text/x-python",
   "name": "python",
   "nbconvert_exporter": "python",
   "pygments_lexer": "ipython3",
   "version": "3.7.1"
  }
 },
 "nbformat": 4,
 "nbformat_minor": 2
}
