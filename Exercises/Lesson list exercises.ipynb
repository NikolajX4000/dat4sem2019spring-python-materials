{
 "cells": [
  {
   "cell_type": "code",
   "execution_count": 7,
   "metadata": {},
   "outputs": [
    {
     "name": "stdout",
     "output_type": "stream",
     "text": [
      "1\n",
      "1000000\n",
      "500000500000\n",
      "0.6352879559999849\n"
     ]
    }
   ],
   "source": [
    "# 1. Create a list with the integer values from one to one million.\n",
    "# Use min() and max() to make sure your list actually starts at one and ends at one million.\n",
    "# Also, use the sum() function to compute the sum of all values and %timeit's execution time.\n",
    "\n",
    "import timeit\n",
    "\n",
    "my_list = range(1, 1000001)\n",
    "print(min(my_list))\n",
    "print(max(my_list))\n",
    "print(sum(my_list))\n",
    "cmd = 'sum(range(1, 1000001))'\n",
    "\n",
    "print(timeit.timeit(cmd, number=10))"
   ]
  },
  {
   "cell_type": "code",
   "execution_count": 8,
   "metadata": {},
   "outputs": [
    {
     "name": "stdout",
     "output_type": "stream",
     "text": [
      "500000500000\n"
     ]
    }
   ],
   "source": [
    "# 2. Write a single line program that computes the sum of a range of integer values without using the sum() function\n",
    "# and without using a loop.\n",
    "\n",
    "import functools\n",
    "\n",
    "print(functools.reduce((lambda res, val: res + val), my_list))"
   ]
  },
  {
   "cell_type": "code",
   "execution_count": 9,
   "metadata": {},
   "outputs": [
    {
     "name": "stdout",
     "output_type": "stream",
     "text": [
      "[1, 3, 5, 7, 9, 11, 13, 15, 17, 19]\n"
     ]
    }
   ],
   "source": [
    "# 3. Use the range() function to make a list of the odd numbers from 1 to 20.\n",
    "# Hint in ipython and this notebooks you can see a functions help text by executing for example range?\n",
    "\n",
    "print(list(range(1, 20, 2)))"
   ]
  },
  {
   "cell_type": "code",
   "execution_count": 10,
   "metadata": {},
   "outputs": [
    {
     "name": "stdout",
     "output_type": "stream",
     "text": [
      "[3, 6, 9, 12, 15, 18, 21, 24, 27, 30]\n"
     ]
    }
   ],
   "source": [
    "# 4. Create a list of the multiples of 3 from 3 to 30. HINT: USE A LIST COMPREHENSION\n",
    "\n",
    "print([x*3 for x in range(1, 11)])"
   ]
  },
  {
   "cell_type": "code",
   "execution_count": 11,
   "metadata": {},
   "outputs": [
    {
     "name": "stdout",
     "output_type": "stream",
     "text": [
      "[1, 8, 27, 64, 125, 216, 343, 512, 729, 1000]\n"
     ]
    }
   ],
   "source": [
    "# 5. A number raised to the third power is called a cube. For example, the cube of 2 is written as 2**3 in Python.\n",
    "# Create a list of the first 10 cubes (that is, the cube of each integer from 1 through 10).\n",
    "\n",
    "print([x**3 for x in range(1, 11)])"
   ]
  },
  {
   "cell_type": "code",
   "execution_count": null,
   "metadata": {},
   "outputs": [],
   "source": []
  }
 ],
 "metadata": {
  "kernelspec": {
   "display_name": "Python 3",
   "language": "python",
   "name": "python3"
  },
  "language_info": {
   "codemirror_mode": {
    "name": "ipython",
    "version": 3
   },
   "file_extension": ".py",
   "mimetype": "text/x-python",
   "name": "python",
   "nbconvert_exporter": "python",
   "pygments_lexer": "ipython3",
   "version": "3.7.1"
  }
 },
 "nbformat": 4,
 "nbformat_minor": 2
}
