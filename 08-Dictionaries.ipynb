{
 "cells": [
  {
   "cell_type": "markdown",
   "metadata": {},
   "source": [
    "# The Dictionary Data Type\n",
    "\n",
    "The dictionary data type provides a flexible way to access and organize data.\n",
    "\n",
    "Like a list, a dictionary is a collection of many values. But unlike indexes for lists, indexes for dictionaries can use many different data types, not just integers. Indexes for dictionaries are called keys, and a key with its associated value is called a key-value pair.\n",
    "\n",
    "In code, a dictionary is typed with braces, `{}`."
   ]
  },
  {
   "cell_type": "code",
   "execution_count": 1,
   "metadata": {},
   "outputs": [
    {
     "data": {
      "text/plain": [
       "{'color': 'greyscale',\n",
       " 'size': 289983,\n",
       " 'type': 'jpg',\n",
       " 'address': 'https://upload.wikimedia.org/wikipedia/commons/7/7b/Moby_Dick_p510_illustration.jpg'}"
      ]
     },
     "execution_count": 1,
     "metadata": {},
     "output_type": "execute_result"
    }
   ],
   "source": [
    "image = {'color': 'greyscale', 'size': 289983, 'type': 'jpg',\n",
    "         'address': 'https://upload.wikimedia.org/wikipedia/commons/7/7b/Moby_Dick_p510_illustration.jpg'}\n",
    "\n",
    "image"
   ]
  },
  {
   "cell_type": "markdown",
   "metadata": {},
   "source": [
    "This assigns a dictionary to the `image` variable. This dictionary’s keys are `'color'`, `'size'`, `'type'`, and `'address'`. The values for these keys are `'greyscale'`, `289983`, `'jpg'`, and `'https://upload.wikimedia.org/wikipedia/commons/7/7b/Moby_Dick_p510_illustration.jpg'`, respectively. You can access these values through their keys."
   ]
  },
  {
   "cell_type": "code",
   "execution_count": 4,
   "metadata": {},
   "outputs": [
    {
     "data": {
      "text/plain": [
       "'greyscale'"
      ]
     },
     "execution_count": 4,
     "metadata": {},
     "output_type": "execute_result"
    }
   ],
   "source": [
    "image['color']"
   ]
  },
  {
   "cell_type": "code",
   "execution_count": 5,
   "metadata": {},
   "outputs": [
    {
     "data": {
      "text/plain": [
       "289983"
      ]
     },
     "execution_count": 5,
     "metadata": {},
     "output_type": "execute_result"
    }
   ],
   "source": [
    "image['size']"
   ]
  },
  {
   "cell_type": "markdown",
   "metadata": {},
   "source": [
    "Dictionaries can still use integer values as keys, just like lists use integers for indexes, but they do not have to start at `0` and can be any number."
   ]
  },
  {
   "cell_type": "code",
   "execution_count": 6,
   "metadata": {},
   "outputs": [],
   "source": [
    "image = {510: 'page in book', 'color': 'greyscale', 'size': 289983, 'type': 'jpg',\n",
    "         'address': 'https://upload.wikimedia.org/wikipedia/commons/7/7b/Moby_Dick_p510_illustration.jpg'}"
   ]
  },
  {
   "cell_type": "code",
   "execution_count": 7,
   "metadata": {},
   "outputs": [
    {
     "data": {
      "text/plain": [
       "'page in book'"
      ]
     },
     "execution_count": 7,
     "metadata": {},
     "output_type": "execute_result"
    }
   ],
   "source": [
    "image[510]"
   ]
  },
  {
   "cell_type": "markdown",
   "metadata": {},
   "source": [
    "## Dictionaries vs. Lists\n",
    "\n",
    "Unlike lists, items in dictionaries are unordered. The first item in a list named `values` would be `values[0]`. But there is no \"first\" item in a dictionary. While the order of items matters for determining whether two lists are the same, it does not matter in what order the key-value pairs are typed in a dictionary."
   ]
  },
  {
   "cell_type": "code",
   "execution_count": 8,
   "metadata": {},
   "outputs": [
    {
     "data": {
      "text/plain": [
       "False"
      ]
     },
     "execution_count": 8,
     "metadata": {},
     "output_type": "execute_result"
    }
   ],
   "source": [
    "fst_sentence = ['Call', 'me', 'Ishmael']\n",
    "fst_sentence_juggled = ['Ishmael', 'me', 'Call']\n",
    "\n",
    "fst_sentence == fst_sentence_juggled"
   ]
  },
  {
   "cell_type": "code",
   "execution_count": 9,
   "metadata": {},
   "outputs": [
    {
     "data": {
      "text/plain": [
       "True"
      ]
     },
     "execution_count": 9,
     "metadata": {},
     "output_type": "execute_result"
    }
   ],
   "source": [
    "fst_sentence = {1: 'Call', 2: 'me', 3: 'Ishmael'}\n",
    "fst_sentence_juggled = {3: 'Ishmael', 2: 'me', 1: 'Call'}\n",
    "\n",
    "fst_sentence == fst_sentence_juggled"
   ]
  },
  {
   "cell_type": "code",
   "execution_count": 11,
   "metadata": {},
   "outputs": [],
   "source": [
    "fst_sentence[1] = 'Yo'"
   ]
  },
  {
   "cell_type": "code",
   "execution_count": 12,
   "metadata": {},
   "outputs": [
    {
     "data": {
      "text/plain": [
       "{1: 'Yo', 2: 'me', 3: 'Ishmael'}"
      ]
     },
     "execution_count": 12,
     "metadata": {},
     "output_type": "execute_result"
    }
   ],
   "source": [
    "fst_sentence"
   ]
  },
  {
   "cell_type": "markdown",
   "metadata": {},
   "source": [
    "Because dictionaries are not ordered, they cannot be sliced like lists."
   ]
  },
  {
   "cell_type": "markdown",
   "metadata": {},
   "source": [
    "## Accessing Values in a Dictionary\n",
    "\n",
    "To get the value associated with a key, give the name of the dictionary and then place the key inside a set of square brackets.\n",
    "\n",
    "Trying to access a key that does not exist in a dictionary will result in a `KeyError` error message, much like a list’s \"out-of-range\" `IndexError` error message. "
   ]
  },
  {
   "cell_type": "code",
   "execution_count": null,
   "metadata": {},
   "outputs": [],
   "source": [
    "image = {'color': 'greyscale', 'size': 289983, 'type': 'jpg',\n",
    "         'address': 'https://upload.wikimedia.org/wikipedia/commons/7/7b/Moby_Dick_p510_illustration.jpg'}\n",
    "\n",
    "image['size']"
   ]
  },
  {
   "cell_type": "code",
   "execution_count": null,
   "metadata": {},
   "outputs": [],
   "source": [
    "image['author']"
   ]
  },
  {
   "cell_type": "markdown",
   "metadata": {},
   "source": [
    "## Adding New Key-Value Pairs\n",
    "\n",
    "Dictionaries are dynamic structures, and you can add new key-value pairs to a dictionary at any time. For example, to add a new key-value pair, you would give the name of the dictionary followed by the new key in square brackets along with the new value."
   ]
  },
  {
   "cell_type": "code",
   "execution_count": null,
   "metadata": {},
   "outputs": [],
   "source": [
    "image = {'color': 'greyscale', 'size': 289983, 'type': 'jpg',\n",
    "         'address': 'https://upload.wikimedia.org/wikipedia/commons/7/7b/Moby_Dick_p510_illustration.jpg'}\n",
    "\n",
    "image['source'] = 'Wikipedia'\n",
    "image"
   ]
  },
  {
   "cell_type": "markdown",
   "metadata": {},
   "source": [
    "## Modifying Values in a Dictionary\n",
    "\n",
    "To modify a value in a dictionary, give the name of the dictionary with the key in square brackets and then the new value you want associated with that key."
   ]
  },
  {
   "cell_type": "code",
   "execution_count": null,
   "metadata": {},
   "outputs": [],
   "source": [
    "image = {'color': 'greyscale', 'size': 289983, 'type': 'jpg',\n",
    "         'address': 'https://upload.wikimedia.org/wikipedia/commons/7/7b/Moby_Dick_p510_illustration.jpg'}\n",
    "\n",
    "image['color'] = 'Black&White'\n",
    "image"
   ]
  },
  {
   "cell_type": "markdown",
   "metadata": {},
   "source": [
    "## Removing Key-Value Pairs\n",
    "\n",
    "When you no longer need a piece of information that’s stored in a dictionary, you can use the `del` statement to completely remove a key-value pair. All `del` needs is the name of the dictionary and the key that you want to remove."
   ]
  },
  {
   "cell_type": "code",
   "execution_count": 13,
   "metadata": {},
   "outputs": [
    {
     "data": {
      "text/plain": [
       "{510: 'page in book',\n",
       " 'size': 289983,\n",
       " 'type': 'jpg',\n",
       " 'address': 'https://upload.wikimedia.org/wikipedia/commons/7/7b/Moby_Dick_p510_illustration.jpg'}"
      ]
     },
     "execution_count": 13,
     "metadata": {},
     "output_type": "execute_result"
    }
   ],
   "source": [
    "del image['color']\n",
    "\n",
    "image"
   ]
  },
  {
   "cell_type": "markdown",
   "metadata": {},
   "source": [
    "## The `keys()`, `values()`, and `items()` Methods\n",
    "\n",
    "There are three dictionary methods that will return list-like values of the dictionary’s keys, values, or both keys and values: `keys()`, `values()`, and `items()`. The values returned by these methods are not true lists: They **cannot be modified and do not have an `append()` method**. But these data types (`dict_keys`, `dict_values`, and `dict_items`, respectively) can be used in for loops."
   ]
  },
  {
   "cell_type": "code",
   "execution_count": 15,
   "metadata": {},
   "outputs": [
    {
     "name": "stdout",
     "output_type": "stream",
     "text": [
      "color\n",
      "size\n",
      "type\n",
      "address\n"
     ]
    }
   ],
   "source": [
    "image = {'color': 'greyscale', 'size': 289983, 'type': 'jpg',\n",
    "         'address': 'https://upload.wikimedia.org/wikipedia/commons/7/7b/Moby_Dick_p510_illustration.jpg'}\n",
    "\n",
    "for key in image.keys():\n",
    "    print(key)"
   ]
  },
  {
   "cell_type": "code",
   "execution_count": 14,
   "metadata": {},
   "outputs": [
    {
     "name": "stdout",
     "output_type": "stream",
     "text": [
      "page in book\n",
      "289983\n",
      "jpg\n",
      "https://upload.wikimedia.org/wikipedia/commons/7/7b/Moby_Dick_p510_illustration.jpg\n"
     ]
    }
   ],
   "source": [
    "for value in image.values():\n",
    "    print(value)"
   ]
  },
  {
   "cell_type": "code",
   "execution_count": 16,
   "metadata": {},
   "outputs": [
    {
     "data": {
      "text/plain": [
       "dict_values"
      ]
     },
     "execution_count": 16,
     "metadata": {},
     "output_type": "execute_result"
    }
   ],
   "source": [
    "type(image.values())"
   ]
  },
  {
   "cell_type": "code",
   "execution_count": 19,
   "metadata": {},
   "outputs": [
    {
     "name": "stdout",
     "output_type": "stream",
     "text": [
      "color\n",
      "\t -greyscale\n",
      "size\n",
      "\t -289983\n",
      "type\n",
      "\t -jpg\n",
      "address\n",
      "\t -https://upload.wikimedia.org/wikipedia/commons/7/7b/Moby_Dick_p510_illustration.jpg\n"
     ]
    }
   ],
   "source": [
    "for key, value in image.items():\n",
    "    print(key)\n",
    "    print('\\t -' + str(value))"
   ]
  },
  {
   "cell_type": "markdown",
   "metadata": {},
   "source": [
    "## Checking Whether a Key or Value Exists in a Dictionary\n",
    "\n",
    "Recall from the previous session, that the `in` and `not in` operators can check whether a value exists in a list. You can also use these operators to see whether a certain key or value exists in a dictionary."
   ]
  },
  {
   "cell_type": "code",
   "execution_count": 24,
   "metadata": {},
   "outputs": [
    {
     "data": {
      "text/plain": [
       "True"
      ]
     },
     "execution_count": 24,
     "metadata": {},
     "output_type": "execute_result"
    }
   ],
   "source": [
    "image = {'color': 'greyscale', 'size': 289983, 'type': 'jpg',\n",
    "         'address': 'https://upload.wikimedia.org/wikipedia/commons/7/7b/Moby_Dick_p510_illustration.jpg'}\n",
    "\n",
    "'color' in image.keys()"
   ]
  },
  {
   "cell_type": "code",
   "execution_count": 25,
   "metadata": {},
   "outputs": [
    {
     "data": {
      "text/plain": [
       "True"
      ]
     },
     "execution_count": 25,
     "metadata": {},
     "output_type": "execute_result"
    }
   ],
   "source": [
    "289983 in image.values()"
   ]
  },
  {
   "cell_type": "code",
   "execution_count": 30,
   "metadata": {},
   "outputs": [
    {
     "data": {
      "text/plain": [
       "True"
      ]
     },
     "execution_count": 30,
     "metadata": {},
     "output_type": "execute_result"
    }
   ],
   "source": [
    "'compression' not in image.keys()"
   ]
  },
  {
   "cell_type": "markdown",
   "metadata": {},
   "source": [
    "## The `get()` Method\n",
    "\n",
    "It is tedious to check whether a key exists in a dictionary before accessing that key’s value. Fortunately, dictionaries have a `get()` method that takes two arguments: the key of the value to retrieve and a fallback value to return if that key does not exist."
   ]
  },
  {
   "cell_type": "code",
   "execution_count": 32,
   "metadata": {},
   "outputs": [
    {
     "name": "stdout",
     "output_type": "stream",
     "text": [
      "greyscale\n"
     ]
    },
    {
     "data": {
      "text/plain": [
       "'unknown'"
      ]
     },
     "execution_count": 32,
     "metadata": {},
     "output_type": "execute_result"
    }
   ],
   "source": [
    "image = {'color': 'greyscale', 'size': 289983, 'type': 'jpg',\n",
    "         'address': 'https://upload.wikimedia.org/wikipedia/commons/7/7b/Moby_Dick_p510_illustration.jpg'}\n",
    "\n",
    "color_val = image.get('color', 'unknown')\n",
    "designer_val = image.get('designer', 'unknown')\n",
    "\n",
    "designer_val"
   ]
  },
  {
   "cell_type": "markdown",
   "metadata": {},
   "source": [
    "## The `setdefault()` Method\n",
    "\n",
    "\n",
    "You will often have to set a value in a dictionary for a certain key only if that key does not already have a value.\n",
    "\n",
    "The `setdefault()` method offers a way to do this in one line of code. The  rst argument passed to the method is the key to check for, and the second argument is the value to set at that key if the key does not exist. If the key does exist, the `setdefault()` method returns the key’s value."
   ]
  },
  {
   "cell_type": "code",
   "execution_count": 33,
   "metadata": {},
   "outputs": [
    {
     "name": "stdout",
     "output_type": "stream",
     "text": [
      "{'\\n': 16, 'C': 2, 'a': 57, 'l': 45, ' ': 182, 'm': 30, 'e': 107, 'I': 12, 's': 52, 'h': 51, '.': 8, 'S': 1, 'o': 62, 'y': 22, 'r': 56, 'g': 24, '—': 3, 'n': 61, 'v': 13, 'i': 68, 'd': 21, 'w': 15, 'p': 25, 'c': 16, 't': 74, 'u': 26, ',': 10, 'b': 9, 'f': 22, 'W': 2, ';': 4, 'z': 2, 'N': 1, 'q': 2, 'k': 4, '’': 1, 'T': 2}\n"
     ]
    }
   ],
   "source": [
    "# A simple character counter using the setdefault() method\n",
    "fst_paragraph = '''\n",
    "Call me Ishmael. Some years ago—never mind how long precisely—having\n",
    "little or no money in my purse, and nothing particular to interest me on\n",
    "shore, I thought I would sail about a little and see the watery part of\n",
    "the world. It is a way I have of driving off the spleen and regulating\n",
    "the circulation. Whenever I find myself growing grim about the mouth;\n",
    "whenever it is a damp, drizzly November in my soul; whenever I find\n",
    "myself involuntarily pausing before coffin warehouses, and bringing up\n",
    "the rear of every funeral I meet; and especially whenever my hypos get\n",
    "such an upper hand of me, that it requires a strong moral principle to\n",
    "prevent me from deliberately stepping into the street, and methodically\n",
    "knocking people’s hats off—then, I account it high time to get to\n",
    "sea as soon as I can. This is my substitute for pistol and ball. With\n",
    "a philosophical flourish Cato throws himself upon his sword; I quietly\n",
    "take to the ship. There is nothing surprising in this. If they but knew\n",
    "it, almost all men in their degree, some time or other, cherish very\n",
    "nearly the same feelings towards the ocean with me.'''\n",
    "\n",
    "count = {}\n",
    "\n",
    "for character in fst_paragraph:\n",
    "    count.setdefault(character, 0)\n",
    "    count[character] += 1\n",
    "\n",
    "print(count)"
   ]
  },
  {
   "cell_type": "markdown",
   "metadata": {},
   "source": [
    "# Nesting\n",
    "\n",
    "Sometimes you will want to store a set of dictionaries in a list or a list of items as a value in a dictionary. This is called *nesting*. You can nest a set of dictionaries inside a list, a list of items inside a dictionary, or even a dictionary inside another dictionary. Nesting is a powerful feature, as the following examples will demonstrate.\n",
    "\n",
    "In general, lists are useful to contain an ordered series of values, and dictionaries are useful for associating keys with values.\n",
    "\n",
    "## A List of Dictionaries\n",
    "\n"
   ]
  },
  {
   "cell_type": "code",
   "execution_count": 34,
   "metadata": {},
   "outputs": [
    {
     "data": {
      "text/plain": [
       "[{'color': 'greyscale',\n",
       "  'size': 289983,\n",
       "  'type': 'jpg',\n",
       "  'address': 'https://upload.wikimedia.org/wikipedia/commons/7/7b/Moby_Dick_p510_illustration.jpg'},\n",
       " {'color': 'greyscale',\n",
       "  'size': 492872,\n",
       "  'type': 'jpg',\n",
       "  'address': 'https://upload.wikimedia.org/wikipedia/commons/f/f7/Queequeg.JPG'},\n",
       " {'color': 'greyscale',\n",
       "  'size': 497121,\n",
       "  'type': 'jpg',\n",
       "  'address': 'https://upload.wikimedia.org/wikipedia/commons/8/8b/Moby_Dick_final_chase.jpg'}]"
      ]
     },
     "execution_count": 34,
     "metadata": {},
     "output_type": "execute_result"
    }
   ],
   "source": [
    "image_0 = {'color': 'greyscale', 'size': 289983, 'type': 'jpg',\n",
    "         'address': 'https://upload.wikimedia.org/wikipedia/commons/7/7b/Moby_Dick_p510_illustration.jpg'}\n",
    "image_1 = {'color': 'greyscale', 'size': 492872, 'type': 'jpg',\n",
    "         'address': 'https://upload.wikimedia.org/wikipedia/commons/f/f7/Queequeg.JPG'}\n",
    "image_2 = {'color': 'greyscale', 'size': 497121, 'type': 'jpg',\n",
    "         'address': 'https://upload.wikimedia.org/wikipedia/commons/8/8b/Moby_Dick_final_chase.jpg'}\n",
    "\n",
    "article_images = [image_0, image_1, image_2]\n",
    "\n",
    "article_images\n"
   ]
  },
  {
   "cell_type": "markdown",
   "metadata": {},
   "source": [
    "## A List in a Dictionary\n",
    "\n",
    "Rather than putting a dictionary inside a list, it is sometimes useful to put a list inside a dictionary."
   ]
  },
  {
   "cell_type": "code",
   "execution_count": 35,
   "metadata": {},
   "outputs": [
    {
     "data": {
      "text/plain": [
       "497121"
      ]
     },
     "execution_count": 35,
     "metadata": {},
     "output_type": "execute_result"
    }
   ],
   "source": [
    "images = {'color': 'greyscale', 'size': [289983, 492872, 497121], 'type': 'jpg',\n",
    "         'address': ['https://upload.wikimedia.org/wikipedia/commons/7/7b/Moby_Dick_p510_illustration.jpg', \n",
    "                     'https://upload.wikimedia.org/wikipedia/commons/f/f7/Queequeg.JPG', \n",
    "                     'https://upload.wikimedia.org/wikipedia/commons/8/8b/Moby_Dick_final_chase.jpg']\n",
    "         }\n",
    "\n",
    "images['size'][-1]"
   ]
  },
  {
   "cell_type": "code",
   "execution_count": null,
   "metadata": {},
   "outputs": [],
   "source": [
    "for key, value in images.items():\n",
    "    print(\"\\n\" + key.title())\n",
    "    \n",
    "    if type(value) == list:\n",
    "        for element in value: \n",
    "            print(\"\\t * \" + str(element))\n",
    "    else:\n",
    "        print(\"\\t\" + value)"
   ]
  },
  {
   "cell_type": "markdown",
   "metadata": {},
   "source": [
    "## A Dictionary in a Dictionary\n",
    "\n",
    "You can nest a dictionary inside another dictionary, but your code can get complicated quickly when you do. For example, if you have several users for a website, each with a unique username, you can use the usernames as the keys in a dictionary. You can then store information about each user by using a dictionary as the value associated with their username. In the following listing, we store three pieces of information about each user: their first name, last name, and location. We’ll access this information by looping through the usernames and the dictionary of information associated with each username:\n"
   ]
  },
  {
   "cell_type": "code",
   "execution_count": 37,
   "metadata": {},
   "outputs": [],
   "source": [
    "users = {\n",
    "    'aeinstein': {\n",
    "        'first': 'albert',\n",
    "        'last': 'einstein',\n",
    "        'locations': ['princeton', 'copenhagen'],\n",
    "        },\n",
    "    \n",
    "    'mcurie': {\n",
    "           'first': 'marie',\n",
    "           'last': 'curie',\n",
    "           'locations': ['paris', 'athens'],\n",
    "           },\n",
    "}"
   ]
  },
  {
   "cell_type": "code",
   "execution_count": null,
   "metadata": {},
   "outputs": [],
   "source": [
    "for username, user_info in users.items():\n",
    "    print(\"\\nUsername: \" + username)\n",
    "    full_name = user_info['first'] + \" \" + user_info['last']\n",
    "    locations = user_info['locations']\n",
    "    \n",
    "    print(\"\\tFull name: \" + full_name.title()) \n",
    "    for location in locations:\n",
    "        print(\"\\tLocation: \" + location.title())"
   ]
  },
  {
   "cell_type": "markdown",
   "metadata": {},
   "source": [
    "## Pretty Printing\n",
    "\n",
    "If you import the pprint module into your programs, you will have access to the `pprint()` and `pformat()` functions that will “pretty print” a dictionary’s values. This is helpful when you want a cleaner display of the items in a dictionary than what `print()` provides.\n"
   ]
  },
  {
   "cell_type": "code",
   "execution_count": 38,
   "metadata": {},
   "outputs": [
    {
     "name": "stdout",
     "output_type": "stream",
     "text": [
      "{'aeinstein': {'first': 'albert', 'last': 'einstein', 'locations': ['princeton', 'copenhagen']}, 'mcurie': {'first': 'marie', 'last': 'curie', 'locations': ['paris', 'athens']}}\n"
     ]
    }
   ],
   "source": [
    "print(users)"
   ]
  },
  {
   "cell_type": "code",
   "execution_count": 39,
   "metadata": {},
   "outputs": [
    {
     "name": "stdout",
     "output_type": "stream",
     "text": [
      "{'aeinstein': {'first': 'albert',\n",
      "               'last': 'einstein',\n",
      "               'locations': ['princeton', 'copenhagen']},\n",
      " 'mcurie': {'first': 'marie',\n",
      "            'last': 'curie',\n",
      "            'locations': ['paris', 'athens']}}\n"
     ]
    }
   ],
   "source": [
    "import pprint\n",
    "\n",
    "pprint.pprint(users)"
   ]
  },
  {
   "cell_type": "code",
   "execution_count": 55,
   "metadata": {},
   "outputs": [
    {
     "data": {
      "text/plain": [
       "{'call': 1,\n",
       " 'me': 5,\n",
       " 'ishmael': 1,\n",
       " 'some': 2,\n",
       " 'years': 1,\n",
       " 'ago—never': 1,\n",
       " 'mind': 1,\n",
       " 'how': 1,\n",
       " 'long': 1,\n",
       " 'precisely—having': 1,\n",
       " 'little': 2,\n",
       " 'or': 2,\n",
       " 'no': 1,\n",
       " 'money': 1,\n",
       " 'in': 4,\n",
       " 'my': 4,\n",
       " 'purse': 1,\n",
       " 'and': 7,\n",
       " 'nothing': 2,\n",
       " 'particular': 1,\n",
       " 'to': 5,\n",
       " 'interest': 1,\n",
       " 'on': 1,\n",
       " 'shore': 1,\n",
       " 'i': 9,\n",
       " 'thought': 1,\n",
       " 'would': 1,\n",
       " 'sail': 1,\n",
       " 'about': 2,\n",
       " 'a': 5,\n",
       " 'see': 1,\n",
       " 'the': 10,\n",
       " 'watery': 1,\n",
       " 'part': 1,\n",
       " 'of': 4,\n",
       " 'world': 1,\n",
       " 'it': 5,\n",
       " 'is': 4,\n",
       " 'way': 1,\n",
       " 'have': 1,\n",
       " 'driving': 1,\n",
       " 'off': 1,\n",
       " 'spleen': 1,\n",
       " 'regulating': 1,\n",
       " 'circulation': 1,\n",
       " 'whenever': 4,\n",
       " 'find': 2,\n",
       " 'myself': 2,\n",
       " 'growing': 1,\n",
       " 'grim': 1,\n",
       " 'mouth': 1,\n",
       " 'damp': 1,\n",
       " 'drizzly': 1,\n",
       " 'november': 1,\n",
       " 'soul': 1,\n",
       " 'involuntarily': 1,\n",
       " 'pausing': 1,\n",
       " 'before': 1,\n",
       " 'coffin': 1,\n",
       " 'warehouses': 1,\n",
       " 'bringing': 1,\n",
       " 'up': 1,\n",
       " 'rear': 1,\n",
       " 'every': 1,\n",
       " 'funeral': 1,\n",
       " 'meet': 1,\n",
       " 'especially': 1,\n",
       " 'hypos': 1,\n",
       " 'get': 2,\n",
       " 'such': 1,\n",
       " 'an': 1,\n",
       " 'upper': 1,\n",
       " 'hand': 1,\n",
       " 'that': 1,\n",
       " 'requires': 1,\n",
       " 'strong': 1,\n",
       " 'moral': 1,\n",
       " 'principle': 1,\n",
       " 'prevent': 1,\n",
       " 'from': 1,\n",
       " 'deliberately': 1,\n",
       " 'stepping': 1,\n",
       " 'into': 1,\n",
       " 'street': 1,\n",
       " 'methodically': 1,\n",
       " 'knocking': 1,\n",
       " 'people’s': 1,\n",
       " 'hats': 1,\n",
       " 'off—then': 1,\n",
       " 'account': 1,\n",
       " 'high': 1,\n",
       " 'time': 2,\n",
       " 'sea': 1,\n",
       " 'as': 2,\n",
       " 'soon': 1,\n",
       " 'can': 1,\n",
       " 'this': 2,\n",
       " 'substitute': 1,\n",
       " 'for': 1,\n",
       " 'pistol': 1,\n",
       " 'ball': 1,\n",
       " 'with': 2,\n",
       " 'philosophical': 1,\n",
       " 'flourish': 1,\n",
       " 'cato': 1,\n",
       " 'throws': 1,\n",
       " 'himself': 1,\n",
       " 'upon': 1,\n",
       " 'his': 1,\n",
       " 'sword': 1,\n",
       " 'quietly': 1,\n",
       " 'take': 1,\n",
       " 'ship': 1,\n",
       " 'there': 1,\n",
       " 'surprising': 1,\n",
       " 'if': 1,\n",
       " 'they': 1,\n",
       " 'but': 1,\n",
       " 'knew': 1,\n",
       " 'almost': 1,\n",
       " 'all': 1,\n",
       " 'men': 1,\n",
       " 'their': 1,\n",
       " 'degree': 1,\n",
       " 'other': 1,\n",
       " 'cherish': 1,\n",
       " 'very': 1,\n",
       " 'nearly': 1,\n",
       " 'same': 1,\n",
       " 'feelings': 1,\n",
       " 'towards': 1,\n",
       " 'ocean': 1}"
      ]
     },
     "execution_count": 55,
     "metadata": {},
     "output_type": "execute_result"
    }
   ],
   "source": [
    "cleaned = fst_paragraph.replace(',', '').replace('.', '').replace(';', '')\n",
    "words = cleaned.lower().split()\n",
    "count = {}\n",
    "for word in words:\n",
    "    count.setdefault(word, 0)\n",
    "    count[word] += 1\n",
    "count"
   ]
  },
  {
   "cell_type": "markdown",
   "metadata": {},
   "source": [
    "# Exercises!!!\n",
    "\n",
    "![image](https://i.makeagif.com/media/2-03-2015/0GlCUD.gif)\n",
    "\n",
    "Using the `str` in `fst_paragraph`, your job is to return a `dict` containing all the words as keys, and the *number of occurrences* for each word as value. \n",
    "For instance, the word `'Ishmael'` occurs once, so a key with `'Ishmael'` is expected to contain the value `1`: `{'Ishmael': 1}`"
   ]
  }
 ],
 "metadata": {
  "kernelspec": {
   "display_name": "Python 3",
   "language": "python",
   "name": "python3"
  },
  "language_info": {
   "codemirror_mode": {
    "name": "ipython",
    "version": 3
   },
   "file_extension": ".py",
   "mimetype": "text/x-python",
   "name": "python",
   "nbconvert_exporter": "python",
   "pygments_lexer": "ipython3",
<<<<<<< HEAD
   "version": "3.7.2"
=======
   "version": "3.6.7"
>>>>>>> 0e2edd3c4cacf3b0f3c7e8714158b5162f15b138
  }
 },
 "nbformat": 4,
 "nbformat_minor": 2
}
